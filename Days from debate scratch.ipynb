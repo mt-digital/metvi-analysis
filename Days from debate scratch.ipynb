{
 "cells": [
  {
   "cell_type": "code",
   "execution_count": 1,
   "metadata": {},
   "outputs": [],
   "source": [
    "from correlate_tweets import data_for_model\n",
    "\n",
    "import warnings\n",
    "warnings.simplefilter('ignore')\n",
    "\n",
    "import matplotlib.pyplot as plt\n",
    "params = {'legend.fontsize': 'x-large',\n",
    "          'figure.figsize': (15, 5),\n",
    "         'axes.labelsize': 'x-large',\n",
    "         'axes.titlesize':'x-large',\n",
    "         'xtick.labelsize':'x-large',\n",
    "         'ytick.labelsize':'x-large'}\n",
    "plt.rcParams.update(params)"
   ]
  },
  {
   "cell_type": "code",
   "execution_count": 2,
   "metadata": {},
   "outputs": [],
   "source": [
    "ts_all = data_for_model()"
   ]
  },
  {
   "cell_type": "code",
   "execution_count": 3,
   "metadata": {},
   "outputs": [
    {
     "name": "stdout",
     "output_type": "stream",
     "text": [
      "Index(['days_from_debate', 'trump', 'clinton', 'metvi_all', 'metvi_trump_subj',\n",
      "       'metvi_trump_obj', 'metvi_clinton_subj', 'metvi_clinton_obj',\n",
      "       'metvi_msnbc', 'metvi_cnn', 'metvi_foxnews'],\n",
      "      dtype='object')\n",
      "total clinton tweets: 2084\n",
      "total trump tweets: 1017\n"
     ]
    }
   ],
   "source": [
    "print(ts_all.columns)\n",
    "print('total clinton tweets: {}'.format(ts_all.clinton.sum()))\n",
    "print('total trump tweets: {}'.format(ts_all.trump.sum()))"
   ]
  },
  {
   "cell_type": "code",
   "execution_count": 4,
   "metadata": {},
   "outputs": [
    {
     "name": "stdout",
     "output_type": "stream",
     "text": [
      "            days_from_debate  trump  clinton  metvi_all  metvi_trump_subj  \\\n",
      "2016-09-01                25     12       20   0.833333               1.0   \n",
      "2016-09-02                24      5        9   1.800000               1.0   \n",
      "2016-09-03                23      5        7   1.500000               1.0   \n",
      "2016-09-04                22     14        6        NaN               0.0   \n",
      "2016-09-05                21      6       12   1.000000               1.0   \n",
      "\n",
      "            metvi_trump_obj  metvi_clinton_subj  metvi_clinton_obj  \\\n",
      "2016-09-01              1.0                 1.0                1.0   \n",
      "2016-09-02              1.0                 0.0                1.5   \n",
      "2016-09-03              0.0                 0.0                2.0   \n",
      "2016-09-04              0.0                 0.0                0.0   \n",
      "2016-09-05              0.0                 0.0                0.0   \n",
      "\n",
      "            metvi_msnbc  metvi_cnn  metvi_foxnews  \n",
      "2016-09-01          1.5        0.0            1.0  \n",
      "2016-09-02          3.0        2.0            1.0  \n",
      "2016-09-03          3.0        NaN            0.0  \n",
      "2016-09-04          NaN        NaN            NaN  \n",
      "2016-09-05          NaN        2.0            0.0  \n"
     ]
    }
   ],
   "source": [
    "print(ts_all.head())"
   ]
  },
  {
   "cell_type": "code",
   "execution_count": 20,
   "metadata": {},
   "outputs": [
    {
     "name": "stdout",
     "output_type": "stream",
     "text": [
      "259.65573810434466\n",
      "267.3218091620158\n",
      "0.021643815385390522\n"
     ]
    }
   ],
   "source": [
    "import statsmodels.formula.api as smf\n",
    "\n",
    "mod1 = smf.ols(formula='metvi_all ~ trump + clinton + days_from_debate',\n",
    "              data=ts_all)\n",
    "\n",
    "res1 = mod1.fit()\n",
    "\n",
    "res1.aic\n",
    "\n",
    "mod2 = smf.ols(formula='metvi_all ~ trump + clinton', data=ts_all)\n",
    "\n",
    "res2 = mod2.fit()\n",
    "\n",
    "print(res1.aic)\n",
    "print(res2.aic)\n",
    "print(np.exp(-abs(res1.aic - res2.aic)/2.0))"
   ]
  },
  {
   "cell_type": "code",
   "execution_count": 23,
   "metadata": {},
   "outputs": [
    {
     "name": "stdout",
     "output_type": "stream",
     "text": [
      "                            OLS Regression Results                            \n",
      "==============================================================================\n",
      "Dep. Variable:              metvi_all   R-squared:                       0.441\n",
      "Model:                            OLS   Adj. R-squared:                  0.417\n",
      "Method:                 Least Squares   F-statistic:                     18.14\n",
      "Date:                Sun, 16 Sep 2018   Prob (F-statistic):           8.80e-09\n",
      "Time:                        23:49:30   Log-Likelihood:                -125.83\n",
      "No. Observations:                  73   AIC:                             259.7\n",
      "Df Residuals:                      69   BIC:                             268.8\n",
      "Df Model:                           3                                         \n",
      "Covariance Type:            nonrobust                                         \n",
      "====================================================================================\n",
      "                       coef    std err          t      P>|t|      [0.025      0.975]\n",
      "------------------------------------------------------------------------------------\n",
      "Intercept            2.7121      0.462      5.872      0.000       1.791       3.633\n",
      "trump                0.0542      0.017      3.201      0.002       0.020       0.088\n",
      "clinton              0.0048      0.013      0.384      0.702      -0.020       0.030\n",
      "days_from_debate    -0.0577      0.018     -3.126      0.003      -0.095      -0.021\n",
      "==============================================================================\n",
      "Omnibus:                        5.222   Durbin-Watson:                   1.391\n",
      "Prob(Omnibus):                  0.073   Jarque-Bera (JB):                4.410\n",
      "Skew:                           0.496   Prob(JB):                        0.110\n",
      "Kurtosis:                       3.684   Cond. No.                         106.\n",
      "==============================================================================\n",
      "\n",
      "Warnings:\n",
      "[1] Standard Errors assume that the covariance matrix of the errors is correctly specified.\n"
     ]
    }
   ],
   "source": [
    "print(res1.summary())"
   ]
  },
  {
   "cell_type": "code",
   "execution_count": 26,
   "metadata": {},
   "outputs": [
    {
     "name": "stdout",
     "output_type": "stream",
     "text": [
      "Intercept           2.712059\n",
      "trump               0.054217\n",
      "clinton             0.004831\n",
      "days_from_debate   -0.057709\n",
      "dtype: float64\n",
      "0.44089221934300193\n",
      "Intercept           1.368239e-07\n",
      "trump               2.069181e-03\n",
      "clinton             7.023570e-01\n",
      "days_from_debate    2.596681e-03\n",
      "dtype: float64\n"
     ]
    }
   ],
   "source": [
    "print(res1.params)\n",
    "print(res1.rsquared)\n",
    "print(res1.pvalues)"
   ]
  },
  {
   "cell_type": "code",
   "execution_count": 27,
   "metadata": {},
   "outputs": [
    {
     "name": "stdout",
     "output_type": "stream",
     "text": [
      "Intercept    1.531391\n",
      "trump        0.052981\n",
      "clinton      0.022549\n",
      "dtype: float64\n",
      "0.3617345921354125\n",
      "Intercept    7.630842e-07\n",
      "trump        4.319648e-03\n",
      "clinton      6.275690e-02\n",
      "dtype: float64\n"
     ]
    }
   ],
   "source": [
    "print(res2.params)\n",
    "print(res2.rsquared)\n",
    "print(res2.pvalues)"
   ]
  },
  {
   "cell_type": "code",
   "execution_count": 31,
   "metadata": {},
   "outputs": [
    {
     "name": "stdout",
     "output_type": "stream",
     "text": [
      "MSNBC\n",
      "Intercept           1.488377\n",
      "trump               0.028003\n",
      "clinton             0.009853\n",
      "days_from_debate   -0.017647\n",
      "dtype: float64 \n",
      "\n",
      "0.11385061239319261 \n",
      "\n",
      "Intercept           0.006126\n",
      "trump               0.373796\n",
      "clinton             0.432930\n",
      "days_from_debate    0.323905\n",
      "dtype: float64\n",
      "\n",
      "CNN\n",
      "Intercept           2.233348\n",
      "trump               0.051464\n",
      "clinton             0.019136\n",
      "days_from_debate   -0.034463\n",
      "dtype: float64 \n",
      "\n",
      "0.1608032942683042 \n",
      "\n",
      "Intercept           0.013463\n",
      "trump               0.306520\n",
      "clinton             0.355842\n",
      "days_from_debate    0.239220\n",
      "dtype: float64\n",
      "\n",
      "FOXNEWS\n",
      "Intercept           3.817247\n",
      "trump               0.041602\n",
      "clinton             0.002816\n",
      "days_from_debate   -0.097321\n",
      "dtype: float64 \n",
      "\n",
      "0.32108489986791244 \n",
      "\n",
      "Intercept           7.438514e-07\n",
      "trump               1.073845e-01\n",
      "clinton             8.830670e-01\n",
      "days_from_debate    8.875436e-04\n",
      "dtype: float64\n",
      "\n"
     ]
    }
   ],
   "source": [
    "import statsmodels.formula.api as smf\n",
    "\n",
    "msnbc = smf.ols(formula='metvi_msnbc ~ trump + clinton + days_from_debate',\n",
    "              data=ts_all)\n",
    "\n",
    "cnn = smf.ols(formula='metvi_cnn ~ trump + clinton + days_from_debate',\n",
    "              data=ts_all)\n",
    "\n",
    "foxnews = smf.ols(formula='metvi_foxnews ~ trump + clinton + days_from_debate',\n",
    "              data=ts_all)\n",
    "\n",
    "nets = ['msnbc', 'cnn', 'foxnews']\n",
    "\n",
    "for idx, mod in enumerate([msnbc, cnn, foxnews]):\n",
    "    res = mod.fit()\n",
    "    print(nets[idx].upper())\n",
    "    print(res.params, '\\n')\n",
    "    print(res.rsquared, '\\n')\n",
    "    print('Pvalues:\\n', res.pvalues)\n",
    "    print()"
   ]
  },
  {
   "cell_type": "code",
   "execution_count": 41,
   "metadata": {},
   "outputs": [
    {
     "name": "stdout",
     "output_type": "stream",
     "text": [
      "                            OLS Regression Results                            \n",
      "==============================================================================\n",
      "Dep. Variable:            metvi_msnbc   R-squared:                       0.070\n",
      "Model:                            OLS   Adj. R-squared:                  0.055\n",
      "Method:                 Least Squares   F-statistic:                     4.615\n",
      "Date:                Mon, 17 Sep 2018   Prob (F-statistic):             0.0357\n",
      "Time:                        00:04:05   Log-Likelihood:                -102.56\n",
      "No. Observations:                  63   AIC:                             209.1\n",
      "Df Residuals:                      61   BIC:                             213.4\n",
      "Df Model:                           1                                         \n",
      "Covariance Type:            nonrobust                                         \n",
      "==============================================================================\n",
      "                 coef    std err          t      P>|t|      [0.025      0.975]\n",
      "------------------------------------------------------------------------------\n",
      "Intercept      1.2251      0.289      4.235      0.000       0.647       1.804\n",
      "trump          0.0561      0.026      2.148      0.036       0.004       0.108\n",
      "==============================================================================\n",
      "Omnibus:                       12.207   Durbin-Watson:                   1.332\n",
      "Prob(Omnibus):                  0.002   Jarque-Bera (JB):               12.619\n",
      "Skew:                           1.023   Prob(JB):                      0.00182\n",
      "Kurtosis:                       3.788   Cond. No.                         20.4\n",
      "==============================================================================\n",
      "\n",
      "Warnings:\n",
      "[1] Standard Errors assume that the covariance matrix of the errors is correctly specified.\n",
      "                            OLS Regression Results                            \n",
      "==============================================================================\n",
      "Dep. Variable:            metvi_msnbc   R-squared:                       0.082\n",
      "Model:                            OLS   Adj. R-squared:                  0.067\n",
      "Method:                 Least Squares   F-statistic:                     5.430\n",
      "Date:                Mon, 17 Sep 2018   Prob (F-statistic):             0.0231\n",
      "Time:                        00:04:05   Log-Likelihood:                -102.17\n",
      "No. Observations:                  63   AIC:                             208.3\n",
      "Df Residuals:                      61   BIC:                             212.6\n",
      "Df Model:                           1                                         \n",
      "Covariance Type:            nonrobust                                         \n",
      "==============================================================================\n",
      "                 coef    std err          t      P>|t|      [0.025      0.975]\n",
      "------------------------------------------------------------------------------\n",
      "Intercept      1.2187      0.275      4.427      0.000       0.668       1.769\n",
      "clinton        0.0219      0.009      2.330      0.023       0.003       0.041\n",
      "==============================================================================\n",
      "Omnibus:                        8.990   Durbin-Watson:                   1.270\n",
      "Prob(Omnibus):                  0.011   Jarque-Bera (JB):                8.713\n",
      "Skew:                           0.888   Prob(JB):                       0.0128\n",
      "Kurtosis:                       3.402   Cond. No.                         51.5\n",
      "==============================================================================\n",
      "\n",
      "Warnings:\n",
      "[1] Standard Errors assume that the covariance matrix of the errors is correctly specified.\n"
     ]
    },
    {
     "data": {
      "text/html": [
       "<table class=\"simpletable\">\n",
       "<caption>OLS Regression Results</caption>\n",
       "<tr>\n",
       "  <th>Dep. Variable:</th>       <td>metvi_msnbc</td>   <th>  R-squared:         </th> <td>   0.078</td>\n",
       "</tr>\n",
       "<tr>\n",
       "  <th>Model:</th>                   <td>OLS</td>       <th>  Adj. R-squared:    </th> <td>   0.063</td>\n",
       "</tr>\n",
       "<tr>\n",
       "  <th>Method:</th>             <td>Least Squares</td>  <th>  F-statistic:       </th> <td>   5.153</td>\n",
       "</tr>\n",
       "<tr>\n",
       "  <th>Date:</th>             <td>Mon, 17 Sep 2018</td> <th>  Prob (F-statistic):</th>  <td>0.0267</td> \n",
       "</tr>\n",
       "<tr>\n",
       "  <th>Time:</th>                 <td>00:04:05</td>     <th>  Log-Likelihood:    </th> <td> -102.30</td>\n",
       "</tr>\n",
       "<tr>\n",
       "  <th>No. Observations:</th>      <td>    63</td>      <th>  AIC:               </th> <td>   208.6</td>\n",
       "</tr>\n",
       "<tr>\n",
       "  <th>Df Residuals:</th>          <td>    61</td>      <th>  BIC:               </th> <td>   212.9</td>\n",
       "</tr>\n",
       "<tr>\n",
       "  <th>Df Model:</th>              <td>     1</td>      <th>                     </th>     <td> </td>   \n",
       "</tr>\n",
       "<tr>\n",
       "  <th>Covariance Type:</th>      <td>nonrobust</td>    <th>                     </th>     <td> </td>   \n",
       "</tr>\n",
       "</table>\n",
       "<table class=\"simpletable\">\n",
       "<tr>\n",
       "          <td></td>            <th>coef</th>     <th>std err</th>      <th>t</th>      <th>P>|t|</th>  <th>[0.025</th>    <th>0.975]</th>  \n",
       "</tr>\n",
       "<tr>\n",
       "  <th>Intercept</th>        <td>    2.1915</td> <td>    0.251</td> <td>    8.717</td> <td> 0.000</td> <td>    1.689</td> <td>    2.694</td>\n",
       "</tr>\n",
       "<tr>\n",
       "  <th>days_from_debate</th> <td>   -0.0328</td> <td>    0.014</td> <td>   -2.270</td> <td> 0.027</td> <td>   -0.062</td> <td>   -0.004</td>\n",
       "</tr>\n",
       "</table>\n",
       "<table class=\"simpletable\">\n",
       "<tr>\n",
       "  <th>Omnibus:</th>       <td> 6.508</td> <th>  Durbin-Watson:     </th> <td>   1.304</td>\n",
       "</tr>\n",
       "<tr>\n",
       "  <th>Prob(Omnibus):</th> <td> 0.039</td> <th>  Jarque-Bera (JB):  </th> <td>   5.804</td>\n",
       "</tr>\n",
       "<tr>\n",
       "  <th>Skew:</th>          <td> 0.722</td> <th>  Prob(JB):          </th> <td>  0.0549</td>\n",
       "</tr>\n",
       "<tr>\n",
       "  <th>Kurtosis:</th>      <td> 3.351</td> <th>  Cond. No.          </th> <td>    27.9</td>\n",
       "</tr>\n",
       "</table><br/><br/>Warnings:<br/>[1] Standard Errors assume that the covariance matrix of the errors is correctly specified."
      ],
      "text/plain": [
       "<class 'statsmodels.iolib.summary.Summary'>\n",
       "\"\"\"\n",
       "                            OLS Regression Results                            \n",
       "==============================================================================\n",
       "Dep. Variable:            metvi_msnbc   R-squared:                       0.078\n",
       "Model:                            OLS   Adj. R-squared:                  0.063\n",
       "Method:                 Least Squares   F-statistic:                     5.153\n",
       "Date:                Mon, 17 Sep 2018   Prob (F-statistic):             0.0267\n",
       "Time:                        00:04:05   Log-Likelihood:                -102.30\n",
       "No. Observations:                  63   AIC:                             208.6\n",
       "Df Residuals:                      61   BIC:                             212.9\n",
       "Df Model:                           1                                         \n",
       "Covariance Type:            nonrobust                                         \n",
       "====================================================================================\n",
       "                       coef    std err          t      P>|t|      [0.025      0.975]\n",
       "------------------------------------------------------------------------------------\n",
       "Intercept            2.1915      0.251      8.717      0.000       1.689       2.694\n",
       "days_from_debate    -0.0328      0.014     -2.270      0.027      -0.062      -0.004\n",
       "==============================================================================\n",
       "Omnibus:                        6.508   Durbin-Watson:                   1.304\n",
       "Prob(Omnibus):                  0.039   Jarque-Bera (JB):                5.804\n",
       "Skew:                           0.722   Prob(JB):                       0.0549\n",
       "Kurtosis:                       3.351   Cond. No.                         27.9\n",
       "==============================================================================\n",
       "\n",
       "Warnings:\n",
       "[1] Standard Errors assume that the covariance matrix of the errors is correctly specified.\n",
       "\"\"\""
      ]
     },
     "execution_count": 41,
     "metadata": {},
     "output_type": "execute_result"
    }
   ],
   "source": [
    "msnbc = smf.ols(formula='metvi_msnbc ~ trump',\n",
    "              data=ts_all)\n",
    "\n",
    "mres = msnbc.fit()\n",
    "print(mres.summary())\n",
    "\n",
    "msnbc = smf.ols(formula='metvi_msnbc ~ clinton',\n",
    "              data=ts_all)\n",
    "\n",
    "mres = msnbc.fit()\n",
    "print(mres.summary())\n",
    "\n",
    "msnbc = smf.ols(formula='metvi_msnbc ~ days_from_debate',\n",
    "              data=ts_all)\n",
    "\n",
    "mres = msnbc.fit()\n",
    "mres.summary()"
   ]
  },
  {
   "cell_type": "code",
   "execution_count": 42,
   "metadata": {},
   "outputs": [
    {
     "data": {
      "text/html": [
       "<div>\n",
       "<style scoped>\n",
       "    .dataframe tbody tr th:only-of-type {\n",
       "        vertical-align: middle;\n",
       "    }\n",
       "\n",
       "    .dataframe tbody tr th {\n",
       "        vertical-align: top;\n",
       "    }\n",
       "\n",
       "    .dataframe thead th {\n",
       "        text-align: right;\n",
       "    }\n",
       "</style>\n",
       "<table border=\"1\" class=\"dataframe\">\n",
       "  <thead>\n",
       "    <tr style=\"text-align: right;\">\n",
       "      <th></th>\n",
       "      <th>days_from_debate</th>\n",
       "      <th>trump</th>\n",
       "      <th>clinton</th>\n",
       "      <th>metvi_all</th>\n",
       "      <th>metvi_trump_subj</th>\n",
       "      <th>metvi_trump_obj</th>\n",
       "      <th>metvi_clinton_subj</th>\n",
       "      <th>metvi_clinton_obj</th>\n",
       "      <th>metvi_msnbc</th>\n",
       "      <th>metvi_cnn</th>\n",
       "      <th>metvi_foxnews</th>\n",
       "    </tr>\n",
       "  </thead>\n",
       "  <tbody>\n",
       "    <tr>\n",
       "      <th>2016-09-01</th>\n",
       "      <td>25</td>\n",
       "      <td>12</td>\n",
       "      <td>20</td>\n",
       "      <td>0.833333</td>\n",
       "      <td>1.0</td>\n",
       "      <td>1.0</td>\n",
       "      <td>1.0</td>\n",
       "      <td>1.0</td>\n",
       "      <td>1.5</td>\n",
       "      <td>0.0</td>\n",
       "      <td>1.0</td>\n",
       "    </tr>\n",
       "    <tr>\n",
       "      <th>2016-09-02</th>\n",
       "      <td>24</td>\n",
       "      <td>5</td>\n",
       "      <td>9</td>\n",
       "      <td>1.800000</td>\n",
       "      <td>1.0</td>\n",
       "      <td>1.0</td>\n",
       "      <td>0.0</td>\n",
       "      <td>1.5</td>\n",
       "      <td>3.0</td>\n",
       "      <td>2.0</td>\n",
       "      <td>1.0</td>\n",
       "    </tr>\n",
       "    <tr>\n",
       "      <th>2016-09-03</th>\n",
       "      <td>23</td>\n",
       "      <td>5</td>\n",
       "      <td>7</td>\n",
       "      <td>1.500000</td>\n",
       "      <td>1.0</td>\n",
       "      <td>0.0</td>\n",
       "      <td>0.0</td>\n",
       "      <td>2.0</td>\n",
       "      <td>3.0</td>\n",
       "      <td>NaN</td>\n",
       "      <td>0.0</td>\n",
       "    </tr>\n",
       "    <tr>\n",
       "      <th>2016-09-04</th>\n",
       "      <td>22</td>\n",
       "      <td>14</td>\n",
       "      <td>6</td>\n",
       "      <td>NaN</td>\n",
       "      <td>0.0</td>\n",
       "      <td>0.0</td>\n",
       "      <td>0.0</td>\n",
       "      <td>0.0</td>\n",
       "      <td>NaN</td>\n",
       "      <td>NaN</td>\n",
       "      <td>NaN</td>\n",
       "    </tr>\n",
       "    <tr>\n",
       "      <th>2016-09-05</th>\n",
       "      <td>21</td>\n",
       "      <td>6</td>\n",
       "      <td>12</td>\n",
       "      <td>1.000000</td>\n",
       "      <td>1.0</td>\n",
       "      <td>0.0</td>\n",
       "      <td>0.0</td>\n",
       "      <td>0.0</td>\n",
       "      <td>NaN</td>\n",
       "      <td>2.0</td>\n",
       "      <td>0.0</td>\n",
       "    </tr>\n",
       "  </tbody>\n",
       "</table>\n",
       "</div>"
      ],
      "text/plain": [
       "            days_from_debate  trump  clinton  metvi_all  metvi_trump_subj  \\\n",
       "2016-09-01                25     12       20   0.833333               1.0   \n",
       "2016-09-02                24      5        9   1.800000               1.0   \n",
       "2016-09-03                23      5        7   1.500000               1.0   \n",
       "2016-09-04                22     14        6        NaN               0.0   \n",
       "2016-09-05                21      6       12   1.000000               1.0   \n",
       "\n",
       "            metvi_trump_obj  metvi_clinton_subj  metvi_clinton_obj  \\\n",
       "2016-09-01              1.0                 1.0                1.0   \n",
       "2016-09-02              1.0                 0.0                1.5   \n",
       "2016-09-03              0.0                 0.0                2.0   \n",
       "2016-09-04              0.0                 0.0                0.0   \n",
       "2016-09-05              0.0                 0.0                0.0   \n",
       "\n",
       "            metvi_msnbc  metvi_cnn  metvi_foxnews  \n",
       "2016-09-01          1.5        0.0            1.0  \n",
       "2016-09-02          3.0        2.0            1.0  \n",
       "2016-09-03          3.0        NaN            0.0  \n",
       "2016-09-04          NaN        NaN            NaN  \n",
       "2016-09-05          NaN        2.0            0.0  "
      ]
     },
     "execution_count": 42,
     "metadata": {},
     "output_type": "execute_result"
    }
   ],
   "source": [
    "ts_all.head()"
   ]
  },
  {
   "cell_type": "code",
   "execution_count": 43,
   "metadata": {},
   "outputs": [
    {
     "name": "stdout",
     "output_type": "stream",
     "text": [
      "                            OLS Regression Results                            \n",
      "==============================================================================\n",
      "Dep. Variable:     metvi_clinton_subj   R-squared:                       0.272\n",
      "Model:                            OLS   Adj. R-squared:                  0.247\n",
      "Method:                 Least Squares   F-statistic:                     10.81\n",
      "Date:                Mon, 17 Sep 2018   Prob (F-statistic):           4.14e-06\n",
      "Time:                        00:08:56   Log-Likelihood:                -102.61\n",
      "No. Observations:                  91   AIC:                             213.2\n",
      "Df Residuals:                      87   BIC:                             223.3\n",
      "Df Model:                           3                                         \n",
      "Covariance Type:            nonrobust                                         \n",
      "====================================================================================\n",
      "                       coef    std err          t      P>|t|      [0.025      0.975]\n",
      "------------------------------------------------------------------------------------\n",
      "Intercept            0.5284      0.219      2.408      0.018       0.092       0.964\n",
      "trump               -0.0056      0.009     -0.633      0.528      -0.023       0.012\n",
      "clinton              0.0195      0.006      3.132      0.002       0.007       0.032\n",
      "days_from_debate    -0.0131      0.008     -1.590      0.116      -0.030       0.003\n",
      "==============================================================================\n",
      "Omnibus:                       15.626   Durbin-Watson:                   2.063\n",
      "Prob(Omnibus):                  0.000   Jarque-Bera (JB):               18.719\n",
      "Skew:                           0.886   Prob(JB):                     8.62e-05\n",
      "Kurtosis:                       4.342   Cond. No.                         94.6\n",
      "==============================================================================\n",
      "\n",
      "Warnings:\n",
      "[1] Standard Errors assume that the covariance matrix of the errors is correctly specified.\n",
      "                            OLS Regression Results                            \n",
      "==============================================================================\n",
      "Dep. Variable:       metvi_trump_subj   R-squared:                       0.215\n",
      "Model:                            OLS   Adj. R-squared:                  0.188\n",
      "Method:                 Least Squares   F-statistic:                     7.959\n",
      "Date:                Mon, 17 Sep 2018   Prob (F-statistic):           9.49e-05\n",
      "Time:                        00:08:56   Log-Likelihood:                -140.20\n",
      "No. Observations:                  91   AIC:                             288.4\n",
      "Df Residuals:                      87   BIC:                             298.4\n",
      "Df Model:                           3                                         \n",
      "Covariance Type:            nonrobust                                         \n",
      "====================================================================================\n",
      "                       coef    std err          t      P>|t|      [0.025      0.975]\n",
      "------------------------------------------------------------------------------------\n",
      "Intercept            0.8481      0.332      2.558      0.012       0.189       1.507\n",
      "trump                0.0234      0.013      1.740      0.085      -0.003       0.050\n",
      "clinton              0.0144      0.009      1.523      0.131      -0.004       0.033\n",
      "days_from_debate    -0.0090      0.012     -0.718      0.474      -0.034       0.016\n",
      "==============================================================================\n",
      "Omnibus:                       14.690   Durbin-Watson:                   1.777\n",
      "Prob(Omnibus):                  0.001   Jarque-Bera (JB):               16.236\n",
      "Skew:                           0.982   Prob(JB):                     0.000298\n",
      "Kurtosis:                       3.652   Cond. No.                         94.6\n",
      "==============================================================================\n",
      "\n",
      "Warnings:\n",
      "[1] Standard Errors assume that the covariance matrix of the errors is correctly specified.\n"
     ]
    }
   ],
   "source": [
    "mod = smf.ols(formula='metvi_clinton_subj ~ trump + clinton + days_from_debate',\n",
    "              data=ts_all)\n",
    "res = mod.fit()\n",
    "print(res.summary())\n",
    "\n",
    "mod = smf.ols(formula='metvi_trump_subj ~ trump + clinton + days_from_debate',\n",
    "              data=ts_all)\n",
    "res = mod.fit()\n",
    "print(res.summary())"
   ]
  },
  {
   "cell_type": "code",
   "execution_count": 44,
   "metadata": {},
   "outputs": [
    {
     "name": "stdout",
     "output_type": "stream",
     "text": [
      "                            OLS Regression Results                            \n",
      "==============================================================================\n",
      "Dep. Variable:      metvi_clinton_obj   R-squared:                       0.255\n",
      "Model:                            OLS   Adj. R-squared:                  0.229\n",
      "Method:                 Least Squares   F-statistic:                     9.924\n",
      "Date:                Mon, 17 Sep 2018   Prob (F-statistic):           1.08e-05\n",
      "Time:                        00:09:33   Log-Likelihood:                -89.994\n",
      "No. Observations:                  91   AIC:                             188.0\n",
      "Df Residuals:                      87   BIC:                             198.0\n",
      "Df Model:                           3                                         \n",
      "Covariance Type:            nonrobust                                         \n",
      "====================================================================================\n",
      "                       coef    std err          t      P>|t|      [0.025      0.975]\n",
      "------------------------------------------------------------------------------------\n",
      "Intercept            0.5568      0.191      2.916      0.005       0.177       0.936\n",
      "trump                0.0118      0.008      1.520      0.132      -0.004       0.027\n",
      "clinton              0.0086      0.005      1.576      0.119      -0.002       0.019\n",
      "days_from_debate    -0.0114      0.007     -1.586      0.116      -0.026       0.003\n",
      "==============================================================================\n",
      "Omnibus:                        6.037   Durbin-Watson:                   1.818\n",
      "Prob(Omnibus):                  0.049   Jarque-Bera (JB):                5.863\n",
      "Skew:                           0.621   Prob(JB):                       0.0533\n",
      "Kurtosis:                       3.035   Cond. No.                         94.6\n",
      "==============================================================================\n",
      "\n",
      "Warnings:\n",
      "[1] Standard Errors assume that the covariance matrix of the errors is correctly specified.\n",
      "                            OLS Regression Results                            \n",
      "==============================================================================\n",
      "Dep. Variable:        metvi_trump_obj   R-squared:                       0.198\n",
      "Model:                            OLS   Adj. R-squared:                  0.171\n",
      "Method:                 Least Squares   F-statistic:                     7.182\n",
      "Date:                Mon, 17 Sep 2018   Prob (F-statistic):           0.000231\n",
      "Time:                        00:09:33   Log-Likelihood:                -112.94\n",
      "No. Observations:                  91   AIC:                             233.9\n",
      "Df Residuals:                      87   BIC:                             243.9\n",
      "Df Model:                           3                                         \n",
      "Covariance Type:            nonrobust                                         \n",
      "====================================================================================\n",
      "                       coef    std err          t      P>|t|      [0.025      0.975]\n",
      "------------------------------------------------------------------------------------\n",
      "Intercept            0.5969      0.246      2.429      0.017       0.108       1.085\n",
      "trump               -0.0139      0.010     -1.399      0.165      -0.034       0.006\n",
      "clinton              0.0243      0.007      3.481      0.001       0.010       0.038\n",
      "days_from_debate    -0.0037      0.009     -0.397      0.692      -0.022       0.015\n",
      "==============================================================================\n",
      "Omnibus:                       12.814   Durbin-Watson:                   1.860\n",
      "Prob(Omnibus):                  0.002   Jarque-Bera (JB):               13.569\n",
      "Skew:                           0.863   Prob(JB):                      0.00113\n",
      "Kurtosis:                       3.774   Cond. No.                         94.6\n",
      "==============================================================================\n",
      "\n",
      "Warnings:\n",
      "[1] Standard Errors assume that the covariance matrix of the errors is correctly specified.\n"
     ]
    }
   ],
   "source": [
    "mod = smf.ols(formula='metvi_clinton_obj ~ trump + clinton + days_from_debate',\n",
    "              data=ts_all)\n",
    "res = mod.fit()\n",
    "print(res.summary())\n",
    "\n",
    "mod = smf.ols(formula='metvi_trump_obj ~ trump + clinton + days_from_debate',\n",
    "              data=ts_all)\n",
    "res = mod.fit()\n",
    "print(res.summary())"
   ]
  },
  {
   "cell_type": "markdown",
   "metadata": {},
   "source": [
    "# Scratch work"
   ]
  },
  {
   "cell_type": "code",
   "execution_count": null,
   "metadata": {},
   "outputs": [],
   "source": [
    "x = np.array([[2, 3, 5], [10, 2, 3], [11, 16, 8], [0, 6, 15]])\n",
    "x.shape"
   ]
  },
  {
   "cell_type": "code",
   "execution_count": null,
   "metadata": {},
   "outputs": [],
   "source": [
    "x.min(axis=1)"
   ]
  },
  {
   "cell_type": "code",
   "execution_count": null,
   "metadata": {},
   "outputs": [],
   "source": [
    "from datetime import datetime\n",
    "\n",
    "debate_dates = np.array(['2016-09-27', '2016-10-02', '2016-10-06'], \n",
    "                        dtype='datetime64[D]')\n",
    "dates = np.arange('2016-09-26', '2016-10-08', dtype='datetime64[D]')\n",
    "diff = debate_dates[0] - dates[0]\n",
    "\n",
    "diff.astype(int)"
   ]
  },
  {
   "cell_type": "code",
   "execution_count": null,
   "metadata": {},
   "outputs": [],
   "source": [
    "(debate_dates[0] - dates).astype(int)"
   ]
  },
  {
   "cell_type": "code",
   "execution_count": null,
   "metadata": {},
   "outputs": [],
   "source": [
    "dates - debate_dates"
   ]
  },
  {
   "cell_type": "code",
   "execution_count": null,
   "metadata": {},
   "outputs": [],
   "source": [
    "days_from_debate = np.array([date - debate_dates\n",
    "                             for date in dates])\n",
    "\n",
    "\n",
    "print(days_from_debate)\n",
    "print(np.absolute(days_from_debate).min(axis=1))"
   ]
  },
  {
   "cell_type": "raw",
   "metadata": {},
   "source": [
    "d = dates[0].astype('datetime64[Y]')\n",
    "pd.to_datetime(d).year"
   ]
  },
  {
   "cell_type": "code",
   "execution_count": null,
   "metadata": {},
   "outputs": [],
   "source": [
    "d.astype(float)"
   ]
  }
 ],
 "metadata": {
  "kernelspec": {
   "display_name": "Python 3",
   "language": "python",
   "name": "python3"
  },
  "language_info": {
   "codemirror_mode": {
    "name": "ipython",
    "version": 3
   },
   "file_extension": ".py",
   "mimetype": "text/x-python",
   "name": "python",
   "nbconvert_exporter": "python",
   "pygments_lexer": "ipython3",
   "version": "3.7.0"
  }
 },
 "nbformat": 4,
 "nbformat_minor": 2
}
